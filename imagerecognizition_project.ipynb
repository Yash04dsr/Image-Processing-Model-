{
  "cells": [
    {
      "cell_type": "code",
      "execution_count": 1,
      "metadata": {
        "id": "mqvyqMzCgnAw"
      },
      "outputs": [],
      "source": [
        "import tensorflow as tf\n",
        "from tensorflow import keras\n",
        "\n",
        "import numpy as np\n",
        "import matplotlib.pyplot as plt\n",
        "\n",
        "fashion_mnist=keras.datasets.fashion_mnist\n",
        "(t_images,t_labels),(test_images,test_labels)=fashion_mnist.load_data()\n",
        "name_class= ['Trouser', 'Shirt', 'T-shirt/top' ,  'Dress', 'Coat','Ankle boot',\n",
        "               'Sandal','Sneaker', 'Bag', 'Pullover',]\n",
        "t_images=t_images/255\n",
        "test_images=test_images/255\n",
        "\n",
        "\n"
      ]
    },
    {
      "cell_type": "markdown",
      "metadata": {
        "id": "rcURyQalhVvj"
      },
      "source": [
        "**Neural Network Formation**\n",
        "\n"
      ]
    },
    {
      "cell_type": "code",
      "execution_count": 2,
      "metadata": {
        "id": "3y5i8V0Fg5Ze"
      },
      "outputs": [],
      "source": [
        "model= keras.Sequential(\n",
        "    [keras.layers.Flatten(input_shape=(28,28)),\n",
        "    keras.layers.Dense(128,activation='relu'),\n",
        "    keras.layers.Dense(10,activation='softmax')]\n",
        ")\n",
        "\n",
        "model.compile(optimizer='adam',\n",
        "              loss='sparse_categorical_crossentropy',\n",
        "              metrics=['accuracy'])\n"
      ]
    },
    {
      "cell_type": "markdown",
      "metadata": {
        "id": "tugqT5kthr2L"
      },
      "source": [
        "*Fitting the data --->> by training set *"
      ]
    },
    {
      "cell_type": "code",
      "execution_count": null,
      "metadata": {
        "colab": {
          "base_uri": "https://localhost:8080/"
        },
        "id": "CuEFvgmjiRWQ",
        "outputId": "7c9772a1-d28d-4cb6-c16d-326c3de8aa9d"
      },
      "outputs": [],
      "source": [
        "\n",
        "model.fit(t_images,t_labels,epochs=10)\n"
      ]
    },
    {
      "cell_type": "markdown",
      "metadata": {
        "id": "ulT4wIPTiag7"
      },
      "source": [
        "** Testing on the test images and its Accuracy**"
      ]
    },
    {
      "cell_type": "code",
      "execution_count": null,
      "metadata": {
        "colab": {
          "base_uri": "https://localhost:8080/"
        },
        "id": "rKcj5pVmiSnB",
        "outputId": "cca7ad57-2eb7-4ba4-f8b1-2cb472a20e12"
      },
      "outputs": [],
      "source": [
        "tested_loss,test_accuracy=model.evaluate(test_images,test_labels,verbose=1)\n",
        "print(test_accuracy)"
      ]
    },
    {
      "cell_type": "markdown",
      "metadata": {
        "id": "f7-2Zexjk5ZP"
      },
      "source": [
        "Here user can check the guessing power of our model\n"
      ]
    },
    {
      "cell_type": "code",
      "execution_count": null,
      "metadata": {
        "colab": {
          "base_uri": "https://localhost:8080/",
          "height": 680
        },
        "id": "BGRx2y7nk7Ep",
        "outputId": "56e1d870-35fe-42cb-b470-23c9b4808140"
      },
      "outputs": [],
      "source": [
        "COLOR = 'white'\n",
        "plt.rcParams['text.color'] = COLOR\n",
        "plt.rcParams['axes.labelcolor'] = COLOR\n",
        "\n",
        "\n",
        "def show_image(img, label, guess):\n",
        "  plt.figure()\n",
        "  plt.imshow(img, cmap=plt.cm.binary)\n",
        "  plt.title(\"Excpected: \" + label)\n",
        "  plt.xlabel(\"Guess: \" + guess)\n",
        "  plt.colorbar()\n",
        "  plt.grid(False)\n",
        "  plt.show()\n",
        "\n",
        "def predict(model, image, correct_label):\n",
        "  class_names = ['T-shirt/top', 'Trouser', 'Pullover', 'Dress', 'Coat',\n",
        "               'Sandal', 'Shirt', 'Sneaker', 'Bag', 'Ankle boot']\n",
        "  prediction = model.predict(np.array([image]))\n",
        "  predicted_class = class_names[np.argmax(prediction)]\n",
        "  print(\"\\n \")\n",
        "  print(\"*******************************************************************\")\n",
        "  print(\"<-------------IMAGE YOU SELECTED TO PREDICT------------------->\")\n",
        "  print(\"*******************************************************************\")\n",
        "  show_image(image, class_names[correct_label], predicted_class)\n",
        "  print(\"*******************************************************************\")\n",
        "  print(\"THE ACTUAL CLASS OF THE IMAGE :-\",class_names[correct_label])\n",
        "  print(\"*******************************************************************\")\n",
        "  print(\"THE PREDICTED CLASS OF THE IMAGE:-\",predicted_class)\n",
        "  print(\"*******************************************************************\")\n",
        "\n",
        "\n",
        "\n",
        "\n",
        "\n",
        "def get_number():\n",
        "  while True:\n",
        "    num = input(\"Pick a number: \")\n",
        "    if num.isdigit():\n",
        "      num = int(num)\n",
        "      if 0 <= num <= 1000:\n",
        "        return int(num)\n",
        "    else:\n",
        "      print(\"Try again...\")\n",
        "\n",
        "num = get_number()\n",
        "image = test_images[num]\n",
        "label = test_labels[num]\n",
        "predict(model, image, label)"
      ]
    }
  ],
  "metadata": {
    "colab": {
      "provenance": []
    },
    "kernelspec": {
      "display_name": "Python 3",
      "name": "python3"
    },
    "language_info": {
      "codemirror_mode": {
        "name": "ipython",
        "version": 3
      },
      "file_extension": ".py",
      "mimetype": "text/x-python",
      "name": "python",
      "nbconvert_exporter": "python",
      "pygments_lexer": "ipython3",
      "version": "3.11.4"
    }
  },
  "nbformat": 4,
  "nbformat_minor": 0
}
