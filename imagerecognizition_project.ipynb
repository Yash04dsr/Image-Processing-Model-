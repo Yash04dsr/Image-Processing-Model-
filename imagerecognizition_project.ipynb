{
  "nbformat": 4,
  "nbformat_minor": 0,
  "metadata": {
    "colab": {
      "provenance": []
    },
    "kernelspec": {
      "name": "python3",
      "display_name": "Python 3"
    },
    "language_info": {
      "name": "python"
    }
  },
  "cells": [
    {
      "cell_type": "code",
      "source": [
        "import tensorflow as tf\n",
        "from tensorflow import keras\n",
        "\n",
        "import numpy as np\n",
        "import matplotlib.pyplot as plt\n",
        "\n",
        "fashion_mnist=keras.datasets.fashion_mnist\n",
        "(t_images,t_labels),(test_images,test_labels)=fashion_mnist.load_data()## split automatically\n",
        "name_class= ['Trouser', 'Shirt', 'T-shirt/top' ,  'Dress', 'Coat','Ankle boot',\n",
        "               'Sandal','Sneaker', 'Bag', 'Pullover',]\n",
        "t_images=t_images/255\n",
        "test_images=test_images/255\n",
        "\n",
        "\n"
      ],
      "metadata": {
        "id": "mqvyqMzCgnAw"
      },
      "execution_count": 19,
      "outputs": []
    },
    {
      "cell_type": "markdown",
      "source": [
        "**Neural Network Formation**\n",
        "\n"
      ],
      "metadata": {
        "id": "rcURyQalhVvj"
      }
    },
    {
      "cell_type": "code",
      "source": [
        "model= keras.Sequential(\n",
        "    [keras.layers.Flatten(input_shape=(28,28)),## input ---->> flatten all the pixel in 28*28\n",
        "    keras.layers.Dense(128,activation='relu'),## hidden 1st-->> why 128 --->>\n",
        "    keras.layers.Dense(10,activation='softmax')]## output layer -->> softmax (all sums up to 1)\n",
        ")\n",
        "\n",
        "model.compile(optimizer='adam',## adam is gradient descent algo used to do that\n",
        "              loss='sparse_categorical_crossentropy',\n",
        "              metrics=['accuracy'])\n"
      ],
      "metadata": {
        "id": "3y5i8V0Fg5Ze"
      },
      "execution_count": 20,
      "outputs": []
    },
    {
      "cell_type": "markdown",
      "source": [
        "*Fitting the data --->> by training set *"
      ],
      "metadata": {
        "id": "tugqT5kthr2L"
      }
    },
    {
      "cell_type": "code",
      "source": [
        "## training the model;\n",
        "model.fit(t_images,t_labels,epochs=10)\n"
      ],
      "metadata": {
        "colab": {
          "base_uri": "https://localhost:8080/"
        },
        "id": "CuEFvgmjiRWQ",
        "outputId": "7c9772a1-d28d-4cb6-c16d-326c3de8aa9d"
      },
      "execution_count": 23,
      "outputs": [
        {
          "output_type": "stream",
          "name": "stdout",
          "text": [
            "Epoch 1/10\n",
            "1875/1875 [==============================] - 5s 3ms/step - loss: 0.3723 - accuracy: 0.8650\n",
            "Epoch 2/10\n",
            "1875/1875 [==============================] - 5s 3ms/step - loss: 0.3364 - accuracy: 0.8766\n",
            "Epoch 3/10\n",
            "1875/1875 [==============================] - 6s 3ms/step - loss: 0.3130 - accuracy: 0.8858\n",
            "Epoch 4/10\n",
            "1875/1875 [==============================] - 5s 3ms/step - loss: 0.2940 - accuracy: 0.8925\n",
            "Epoch 5/10\n",
            "1875/1875 [==============================] - 7s 3ms/step - loss: 0.2809 - accuracy: 0.8964\n",
            "Epoch 6/10\n",
            "1875/1875 [==============================] - 5s 3ms/step - loss: 0.2686 - accuracy: 0.9006\n",
            "Epoch 7/10\n",
            "1875/1875 [==============================] - 6s 3ms/step - loss: 0.2563 - accuracy: 0.9046\n",
            "Epoch 8/10\n",
            "1875/1875 [==============================] - 6s 3ms/step - loss: 0.2481 - accuracy: 0.9075\n",
            "Epoch 9/10\n",
            "1875/1875 [==============================] - 5s 3ms/step - loss: 0.2395 - accuracy: 0.9102\n",
            "Epoch 10/10\n",
            "1875/1875 [==============================] - 6s 3ms/step - loss: 0.2321 - accuracy: 0.9134\n"
          ]
        },
        {
          "output_type": "execute_result",
          "data": {
            "text/plain": [
              "<keras.src.callbacks.History at 0x78fbe9e8f040>"
            ]
          },
          "metadata": {},
          "execution_count": 23
        }
      ]
    },
    {
      "cell_type": "markdown",
      "source": [
        "** Testing on the test images and its Accuracy**"
      ],
      "metadata": {
        "id": "ulT4wIPTiag7"
      }
    },
    {
      "cell_type": "code",
      "source": [
        "tested_loss,test_accuracy=model.evaluate(test_images,test_labels,verbose=1)\n",
        "print(test_accuracy)"
      ],
      "metadata": {
        "colab": {
          "base_uri": "https://localhost:8080/"
        },
        "id": "rKcj5pVmiSnB",
        "outputId": "cca7ad57-2eb7-4ba4-f8b1-2cb472a20e12"
      },
      "execution_count": 24,
      "outputs": [
        {
          "output_type": "stream",
          "name": "stdout",
          "text": [
            "313/313 [==============================] - 1s 2ms/step - loss: 0.3318 - accuracy: 0.8853\n",
            "0.8852999806404114\n"
          ]
        }
      ]
    },
    {
      "cell_type": "markdown",
      "source": [
        "HERE user can check the guessing power of our model\n"
      ],
      "metadata": {
        "id": "f7-2Zexjk5ZP"
      }
    },
    {
      "cell_type": "code",
      "source": [
        "COLOR = 'white'\n",
        "plt.rcParams['text.color'] = COLOR\n",
        "plt.rcParams['axes.labelcolor'] = COLOR\n",
        "\n",
        "\n",
        "def show_image(img, label, guess):\n",
        "  plt.figure()\n",
        "  plt.imshow(img, cmap=plt.cm.binary)\n",
        "  plt.title(\"Excpected: \" + label)\n",
        "  plt.xlabel(\"Guess: \" + guess)\n",
        "  plt.colorbar()\n",
        "  plt.grid(False)\n",
        "  plt.show()\n",
        "\n",
        "def predict(model, image, correct_label):\n",
        "  class_names = ['T-shirt/top', 'Trouser', 'Pullover', 'Dress', 'Coat',\n",
        "               'Sandal', 'Shirt', 'Sneaker', 'Bag', 'Ankle boot']\n",
        "  prediction = model.predict(np.array([image]))\n",
        "  predicted_class = class_names[np.argmax(prediction)]\n",
        "  print(\"\\n \")\n",
        "  print(\"*******************************************************************\")\n",
        "  print(\"<-------------IMAGE YOU SELECTED TO PREDICT------------------->\")\n",
        "  print(\"*******************************************************************\")\n",
        "  show_image(image, class_names[correct_label], predicted_class)\n",
        "  print(\"*******************************************************************\")\n",
        "  print(\"THE ACTUAL CLASS OF THE IMAGE :-\",class_names[correct_label])\n",
        "  print(\"*******************************************************************\")\n",
        "  print(\"THE PREDICTED CLASS OF THE IMAGE:-\",predicted_class)\n",
        "  print(\"*******************************************************************\")\n",
        "\n",
        "\n",
        "\n",
        "\n",
        "\n",
        "def get_number():\n",
        "  while True:\n",
        "    num = input(\"Pick a number: \")\n",
        "    if num.isdigit():\n",
        "      num = int(num)\n",
        "      if 0 <= num <= 1000:\n",
        "        return int(num)\n",
        "    else:\n",
        "      print(\"Try again...\")\n",
        "\n",
        "num = get_number()\n",
        "image = test_images[num]\n",
        "label = test_labels[num]\n",
        "predict(model, image, label)"
      ],
      "metadata": {
        "colab": {
          "base_uri": "https://localhost:8080/",
          "height": 680
        },
        "id": "BGRx2y7nk7Ep",
        "outputId": "56e1d870-35fe-42cb-b470-23c9b4808140"
      },
      "execution_count": 25,
      "outputs": [
        {
          "output_type": "stream",
          "name": "stdout",
          "text": [
            "Pick a number: 1\n",
            "1/1 [==============================] - 0s 265ms/step\n",
            "\n",
            " \n",
            "*******************************************************************\n",
            "<-------------IMAGE YOU SELECTED TO PREDICT------------------->\n",
            "*******************************************************************\n"
          ]
        },
        {
          "output_type": "display_data",
          "data": {
            "text/plain": [
              "<Figure size 640x480 with 2 Axes>"
            ],
            "image/png": "[encoded data removed]"
          },
          "metadata": {}
        },
        {
          "output_type": "stream",
          "name": "stdout",
          "text": [
            "*******************************************************************\n",
            "THE ACTUAL CLASS OF THE IMAGE :- Pullover\n",
            "*******************************************************************\n",
            "THE PREDICTED CLASS OF THE IMAGE:- Pullover\n",
            "*******************************************************************\n"
          ]
        }
      ]
    },
    {
      "cell_type": "code",
      "source": [],
      "metadata": {
        "id": "eKh-arLblKMs"
      },
      "execution_count": null,
      "outputs": []
    }
  ]
}